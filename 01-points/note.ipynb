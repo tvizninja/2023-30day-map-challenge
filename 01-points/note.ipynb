{
 "cells": [
  {
   "cell_type": "code",
   "execution_count": 11,
   "metadata": {},
   "outputs": [],
   "source": [
    "# import std libs\n",
    "import urllib\n",
    "from pathlib import Path\n",
    "\n",
    "# import ext libs\n",
    "import polars as pl\n",
    "import matplotlib.pyplot as plot"
   ]
  },
  {
   "cell_type": "code",
   "execution_count": 12,
   "metadata": {},
   "outputs": [],
   "source": [
    "# download data from https://geoshape.ex.nii.ac.jp/nrct/\n",
    "url = 'https://geoshape.ex.nii.ac.jp/nrct/dataset/nrct-20231025.csv'\n",
    "\n",
    "localpath = Path(\"./nrct.csv\")\n",
    "if (not localpath.is_file()):\n",
    "    urllib.request.urlretrieve(url, localpath)"
   ]
  },
  {
   "cell_type": "code",
   "execution_count": 13,
   "metadata": {},
   "outputs": [
    {
     "data": {
      "text/html": [
       "<div><style>\n",
       ".dataframe > thead > tr > th,\n",
       ".dataframe > tbody > tr > td {\n",
       "  text-align: right;\n",
       "  white-space: pre-wrap;\n",
       "}\n",
       "</style>\n",
       "<small>shape: (9, 13)</small><table border=\"1\" class=\"dataframe\"><thead><tr><th>describe</th><th>id</th><th>都道府県コード</th><th>名称</th><th>読み</th><th>上位地名</th><th>出典住所</th><th>緯度</th><th>経度</th><th>推定手法</th><th>歴史地名ID</th><th>歴史地名</th><th>geolod_id</th></tr><tr><td>str</td><td>f64</td><td>f64</td><td>str</td><td>str</td><td>str</td><td>str</td><td>f64</td><td>f64</td><td>str</td><td>f64</td><td>str</td><td>str</td></tr></thead><tbody><tr><td>&quot;count&quot;</td><td>80277.0</td><td>80277.0</td><td>&quot;80277&quot;</td><td>&quot;80277&quot;</td><td>&quot;80277&quot;</td><td>&quot;80277&quot;</td><td>80277.0</td><td>80277.0</td><td>&quot;80277&quot;</td><td>80277.0</td><td>&quot;80277&quot;</td><td>&quot;80277&quot;</td></tr><tr><td>&quot;null_count&quot;</td><td>0.0</td><td>0.0</td><td>&quot;0&quot;</td><td>&quot;0&quot;</td><td>&quot;0&quot;</td><td>&quot;0&quot;</td><td>3651.0</td><td>3651.0</td><td>&quot;0&quot;</td><td>39823.0</td><td>&quot;39823&quot;</td><td>&quot;39823&quot;</td></tr><tr><td>&quot;mean&quot;</td><td>2.2618e11</td><td>22.61816</td><td>null</td><td>null</td><td>null</td><td>null</td><td>35.61884</td><td>136.595692</td><td>null</td><td>4.0188e7</td><td>null</td><td>null</td></tr><tr><td>&quot;std&quot;</td><td>1.2617e11</td><td>12.616932</td><td>null</td><td>null</td><td>null</td><td>null</td><td>2.145059</td><td>3.313941</td><td>null</td><td>105151.603961</td><td>null</td><td>null</td></tr><tr><td>&quot;min&quot;</td><td>1.0000e10</td><td>1.0</td><td>&quot;【すす】屋村&quot;</td><td>&quot;ああらごむら&quot;</td><td>&quot;あきる野市&quot;</td><td>&quot;あきる野市三内&quot;</td><td>24.058586</td><td>122.987679</td><td>&quot;jageocoder&quot;</td><td>4.0000073e7</td><td>&quot;●幸地&quot;</td><td>&quot;0000C9&quot;</td></tr><tr><td>&quot;25%&quot;</td><td>1.3000e11</td><td>13.0</td><td>null</td><td>null</td><td>null</td><td>null</td><td>34.652501</td><td>134.539688</td><td>null</td><td>4.0076217e7</td><td>null</td><td>null</td></tr><tr><td>&quot;50%&quot;</td><td>2.2000e11</td><td>22.0</td><td>null</td><td>null</td><td>null</td><td>null</td><td>35.425953</td><td>136.867706</td><td>null</td><td>4.0234967e7</td><td>null</td><td>null</td></tr><tr><td>&quot;75%&quot;</td><td>3.2000e11</td><td>32.0</td><td>null</td><td>null</td><td>null</td><td>null</td><td>36.557764</td><td>139.638672</td><td>null</td><td>4.0280512e7</td><td>null</td><td>null</td></tr><tr><td>&quot;max&quot;</td><td>4.8000e11</td><td>48.0</td><td>&quot;𤘩宮城村&quot;</td><td>&quot;んみーむら&quot;</td><td>&quot;龍野市&quot;</td><td>&quot;龍野市龍野町立町・龍野町大手…</td><td>45.444754</td><td>148.461914</td><td>&quot;rekishi_db&quot;</td><td>4.0318444e7</td><td>&quot;＃田&quot;</td><td>&quot;zyk2uP&quot;</td></tr></tbody></table></div>"
      ],
      "text/plain": [
       "shape: (9, 13)\n",
       "┌───────────┬───────────┬───────────┬───────────┬───┬───────────┬───────────┬──────────┬───────────┐\n",
       "│ describe  ┆ id        ┆ 都道府県  ┆ 名称      ┆ … ┆ 推定手法  ┆ 歴史地名I ┆ 歴史地名 ┆ geolod_id │\n",
       "│ ---       ┆ ---       ┆ コード    ┆ ---       ┆   ┆ ---       ┆ D         ┆ ---      ┆ ---       │\n",
       "│ str       ┆ f64       ┆ ---       ┆ str       ┆   ┆ str       ┆ ---       ┆ str      ┆ str       │\n",
       "│           ┆           ┆ f64       ┆           ┆   ┆           ┆ f64       ┆          ┆           │\n",
       "╞═══════════╪═══════════╪═══════════╪═══════════╪═══╪═══════════╪═══════════╪══════════╪═══════════╡\n",
       "│ count     ┆ 80277.0   ┆ 80277.0   ┆ 80277     ┆ … ┆ 80277     ┆ 80277.0   ┆ 80277    ┆ 80277     │\n",
       "│ null_coun ┆ 0.0       ┆ 0.0       ┆ 0         ┆ … ┆ 0         ┆ 39823.0   ┆ 39823    ┆ 39823     │\n",
       "│ t         ┆           ┆           ┆           ┆   ┆           ┆           ┆          ┆           │\n",
       "│ mean      ┆ 2.2618e11 ┆ 22.61816  ┆ null      ┆ … ┆ null      ┆ 4.0188e7  ┆ null     ┆ null      │\n",
       "│ std       ┆ 1.2617e11 ┆ 12.616932 ┆ null      ┆ … ┆ null      ┆ 105151.60 ┆ null     ┆ null      │\n",
       "│           ┆           ┆           ┆           ┆   ┆           ┆ 3961      ┆          ┆           │\n",
       "│ min       ┆ 1.0000e10 ┆ 1.0       ┆ 【すす】  ┆ … ┆ jageocode ┆ 4.0000073 ┆ ●幸地    ┆ 0000C9    │\n",
       "│           ┆           ┆           ┆ 屋村      ┆   ┆ r         ┆ e7        ┆          ┆           │\n",
       "│ 25%       ┆ 1.3000e11 ┆ 13.0      ┆ null      ┆ … ┆ null      ┆ 4.0076217 ┆ null     ┆ null      │\n",
       "│           ┆           ┆           ┆           ┆   ┆           ┆ e7        ┆          ┆           │\n",
       "│ 50%       ┆ 2.2000e11 ┆ 22.0      ┆ null      ┆ … ┆ null      ┆ 4.0234967 ┆ null     ┆ null      │\n",
       "│           ┆           ┆           ┆           ┆   ┆           ┆ e7        ┆          ┆           │\n",
       "│ 75%       ┆ 3.2000e11 ┆ 32.0      ┆ null      ┆ … ┆ null      ┆ 4.0280512 ┆ null     ┆ null      │\n",
       "│           ┆           ┆           ┆           ┆   ┆           ┆ e7        ┆          ┆           │\n",
       "│ max       ┆ 4.8000e11 ┆ 48.0      ┆ 𤘩宮城村  ┆ … ┆ rekishi_d ┆ 4.0318444 ┆ ＃田     ┆ zyk2uP    │\n",
       "│           ┆           ┆           ┆           ┆   ┆ b         ┆ e7        ┆          ┆           │\n",
       "└───────────┴───────────┴───────────┴───────────┴───┴───────────┴───────────┴──────────┴───────────┘"
      ]
     },
     "execution_count": 13,
     "metadata": {},
     "output_type": "execute_result"
    }
   ],
   "source": [
    "csv = pl.read_csv('nrct.csv')\n",
    "csv.describe()"
   ]
  },
  {
   "cell_type": "code",
   "execution_count": 14,
   "metadata": {},
   "outputs": [
    {
     "data": {
      "text/html": [
       "<div><style>\n",
       ".dataframe > thead > tr > th,\n",
       ".dataframe > tbody > tr > td {\n",
       "  text-align: right;\n",
       "  white-space: pre-wrap;\n",
       "}\n",
       "</style>\n",
       "<small>shape: (5, 12)</small><table border=\"1\" class=\"dataframe\"><thead><tr><th>id</th><th>都道府県コード</th><th>名称</th><th>読み</th><th>上位地名</th><th>出典住所</th><th>緯度</th><th>経度</th><th>推定手法</th><th>歴史地名ID</th><th>歴史地名</th><th>geolod_id</th></tr><tr><td>i64</td><td>i64</td><td>str</td><td>str</td><td>str</td><td>str</td><td>f64</td><td>f64</td><td>str</td><td>i64</td><td>str</td><td>str</td></tr></thead><tbody><tr><td>10000036900</td><td>1</td><td>&quot;尻沢辺村&quot;</td><td>&quot;しりさわべむら&quot;</td><td>&quot;函館市&quot;</td><td>&quot;函館市住吉町・谷地頭町・青柳…</td><td>41.753087</td><td>140.715357</td><td>&quot;jageocoder&quot;</td><td>null</td><td>null</td><td>null</td></tr><tr><td>10000037300</td><td>1</td><td>&quot;大町&quot;</td><td>&quot;おおまち&quot;</td><td>&quot;函館市&quot;</td><td>&quot;函館市大町&quot;</td><td>41.769485</td><td>140.709671</td><td>&quot;jageocoder&quot;</td><td>null</td><td>null</td><td>null</td></tr><tr><td>10000037700</td><td>1</td><td>&quot;喜楽町&quot;</td><td>&quot;きらくちよう&quot;</td><td>&quot;函館市&quot;</td><td>&quot;函館市大町&quot;</td><td>41.769485</td><td>140.709671</td><td>&quot;jageocoder&quot;</td><td>null</td><td>null</td><td>null</td></tr><tr><td>10000037800</td><td>1</td><td>&quot;七軒町&quot;</td><td>&quot;しちけんちよう&quot;</td><td>&quot;函館市&quot;</td><td>&quot;函館市大町&quot;</td><td>41.769485</td><td>140.709671</td><td>&quot;jageocoder&quot;</td><td>null</td><td>null</td><td>null</td></tr><tr><td>10000037900</td><td>1</td><td>&quot;寺町&quot;</td><td>&quot;てらまち&quot;</td><td>&quot;函館市&quot;</td><td>&quot;函館市弥生町・大町&quot;</td><td>41.769094</td><td>140.707901</td><td>&quot;jageocoder&quot;</td><td>null</td><td>null</td><td>null</td></tr></tbody></table></div>"
      ],
      "text/plain": [
       "shape: (5, 12)\n",
       "┌────────────┬───────────┬──────────┬───────────┬───┬───────────┬───────────┬──────────┬───────────┐\n",
       "│ id         ┆ 都道府県  ┆ 名称     ┆ 読み      ┆ … ┆ 推定手法  ┆ 歴史地名I ┆ 歴史地名 ┆ geolod_id │\n",
       "│ ---        ┆ コード    ┆ ---      ┆ ---       ┆   ┆ ---       ┆ D         ┆ ---      ┆ ---       │\n",
       "│ i64        ┆ ---       ┆ str      ┆ str       ┆   ┆ str       ┆ ---       ┆ str      ┆ str       │\n",
       "│            ┆ i64       ┆          ┆           ┆   ┆           ┆ i64       ┆          ┆           │\n",
       "╞════════════╪═══════════╪══════════╪═══════════╪═══╪═══════════╪═══════════╪══════════╪═══════════╡\n",
       "│ 1000003690 ┆ 1         ┆ 尻沢辺村 ┆ しりさわ  ┆ … ┆ jageocode ┆ null      ┆ null     ┆ null      │\n",
       "│ 0          ┆           ┆          ┆ べむら    ┆   ┆ r         ┆           ┆          ┆           │\n",
       "│ 1000003730 ┆ 1         ┆ 大町     ┆ おおまち  ┆ … ┆ jageocode ┆ null      ┆ null     ┆ null      │\n",
       "│ 0          ┆           ┆          ┆           ┆   ┆ r         ┆           ┆          ┆           │\n",
       "│ 1000003770 ┆ 1         ┆ 喜楽町   ┆ きらくち  ┆ … ┆ jageocode ┆ null      ┆ null     ┆ null      │\n",
       "│ 0          ┆           ┆          ┆ よう      ┆   ┆ r         ┆           ┆          ┆           │\n",
       "│ 1000003780 ┆ 1         ┆ 七軒町   ┆ しちけん  ┆ … ┆ jageocode ┆ null      ┆ null     ┆ null      │\n",
       "│ 0          ┆           ┆          ┆ ちよう    ┆   ┆ r         ┆           ┆          ┆           │\n",
       "│ 1000003790 ┆ 1         ┆ 寺町     ┆ てらまち  ┆ … ┆ jageocode ┆ null      ┆ null     ┆ null      │\n",
       "│ 0          ┆           ┆          ┆           ┆   ┆ r         ┆           ┆          ┆           │\n",
       "└────────────┴───────────┴──────────┴───────────┴───┴───────────┴───────────┴──────────┴───────────┘"
      ]
     },
     "execution_count": 14,
     "metadata": {},
     "output_type": "execute_result"
    }
   ],
   "source": [
    "csv.head(5)"
   ]
  },
  {
   "cell_type": "code",
   "execution_count": 15,
   "metadata": {},
   "outputs": [
    {
     "data": {
      "text/html": [
       "<div><style>\n",
       ".dataframe > thead > tr > th,\n",
       ".dataframe > tbody > tr > td {\n",
       "  text-align: right;\n",
       "  white-space: pre-wrap;\n",
       "}\n",
       "</style>\n",
       "<small>shape: (5, 13)</small><table border=\"1\" class=\"dataframe\"><thead><tr><th>id</th><th>都道府県コード</th><th>名称</th><th>読み</th><th>上位地名</th><th>出典住所</th><th>緯度</th><th>経度</th><th>推定手法</th><th>歴史地名ID</th><th>歴史地名</th><th>geolod_id</th><th>lastchar</th></tr><tr><td>i64</td><td>i64</td><td>str</td><td>str</td><td>str</td><td>str</td><td>f64</td><td>f64</td><td>str</td><td>i64</td><td>str</td><td>str</td><td>str</td></tr></thead><tbody><tr><td>10000036900</td><td>1</td><td>&quot;尻沢辺村&quot;</td><td>&quot;しりさわべむら&quot;</td><td>&quot;函館市&quot;</td><td>&quot;函館市住吉町・谷地頭町・青柳…</td><td>41.753087</td><td>140.715357</td><td>&quot;jageocoder&quot;</td><td>null</td><td>null</td><td>null</td><td>&quot;辺&quot;</td></tr><tr><td>10000037300</td><td>1</td><td>&quot;大町&quot;</td><td>&quot;おおまち&quot;</td><td>&quot;函館市&quot;</td><td>&quot;函館市大町&quot;</td><td>41.769485</td><td>140.709671</td><td>&quot;jageocoder&quot;</td><td>null</td><td>null</td><td>null</td><td>&quot;大&quot;</td></tr><tr><td>10000037700</td><td>1</td><td>&quot;喜楽町&quot;</td><td>&quot;きらくちよう&quot;</td><td>&quot;函館市&quot;</td><td>&quot;函館市大町&quot;</td><td>41.769485</td><td>140.709671</td><td>&quot;jageocoder&quot;</td><td>null</td><td>null</td><td>null</td><td>&quot;楽&quot;</td></tr><tr><td>10000037800</td><td>1</td><td>&quot;七軒町&quot;</td><td>&quot;しちけんちよう&quot;</td><td>&quot;函館市&quot;</td><td>&quot;函館市大町&quot;</td><td>41.769485</td><td>140.709671</td><td>&quot;jageocoder&quot;</td><td>null</td><td>null</td><td>null</td><td>&quot;軒&quot;</td></tr><tr><td>10000037900</td><td>1</td><td>&quot;寺町&quot;</td><td>&quot;てらまち&quot;</td><td>&quot;函館市&quot;</td><td>&quot;函館市弥生町・大町&quot;</td><td>41.769094</td><td>140.707901</td><td>&quot;jageocoder&quot;</td><td>null</td><td>null</td><td>null</td><td>&quot;寺&quot;</td></tr></tbody></table></div>"
      ],
      "text/plain": [
       "shape: (5, 13)\n",
       "┌────────────┬────────────┬──────────┬───────────┬───┬───────────┬──────────┬───────────┬──────────┐\n",
       "│ id         ┆ 都道府県コ ┆ 名称     ┆ 読み      ┆ … ┆ 歴史地名I ┆ 歴史地名 ┆ geolod_id ┆ lastchar │\n",
       "│ ---        ┆ ード       ┆ ---      ┆ ---       ┆   ┆ D         ┆ ---      ┆ ---       ┆ ---      │\n",
       "│ i64        ┆ ---        ┆ str      ┆ str       ┆   ┆ ---       ┆ str      ┆ str       ┆ str      │\n",
       "│            ┆ i64        ┆          ┆           ┆   ┆ i64       ┆          ┆           ┆          │\n",
       "╞════════════╪════════════╪══════════╪═══════════╪═══╪═══════════╪══════════╪═══════════╪══════════╡\n",
       "│ 1000003690 ┆ 1          ┆ 尻沢辺村 ┆ しりさわ  ┆ … ┆ null      ┆ null     ┆ null      ┆ 辺       │\n",
       "│ 0          ┆            ┆          ┆ べむら    ┆   ┆           ┆          ┆           ┆          │\n",
       "│ 1000003730 ┆ 1          ┆ 大町     ┆ おおまち  ┆ … ┆ null      ┆ null     ┆ null      ┆ 大       │\n",
       "│ 0          ┆            ┆          ┆           ┆   ┆           ┆          ┆           ┆          │\n",
       "│ 1000003770 ┆ 1          ┆ 喜楽町   ┆ きらくち  ┆ … ┆ null      ┆ null     ┆ null      ┆ 楽       │\n",
       "│ 0          ┆            ┆          ┆ よう      ┆   ┆           ┆          ┆           ┆          │\n",
       "│ 1000003780 ┆ 1          ┆ 七軒町   ┆ しちけん  ┆ … ┆ null      ┆ null     ┆ null      ┆ 軒       │\n",
       "│ 0          ┆            ┆          ┆ ちよう    ┆   ┆           ┆          ┆           ┆          │\n",
       "│ 1000003790 ┆ 1          ┆ 寺町     ┆ てらまち  ┆ … ┆ null      ┆ null     ┆ null      ┆ 寺       │\n",
       "│ 0          ┆            ┆          ┆           ┆   ┆           ┆          ┆           ┆          │\n",
       "└────────────┴────────────┴──────────┴───────────┴───┴───────────┴──────────┴───────────┴──────────┘"
      ]
     },
     "execution_count": 15,
     "metadata": {},
     "output_type": "execute_result"
    }
   ],
   "source": [
    "csv.with_columns(\n",
    "    pl.col('名称').str.replace(r'[市町村]$','').str.extract(r'(.)$',1).alias('lastchar')\n",
    ")"
   ]
  },
  {
   "cell_type": "code",
   "execution_count": 25,
   "metadata": {},
   "outputs": [
    {
     "data": {
      "text/html": [
       "<div><style>\n",
       ".dataframe > thead > tr > th,\n",
       ".dataframe > tbody > tr > td {\n",
       "  text-align: right;\n",
       "  white-space: pre-wrap;\n",
       "}\n",
       "</style>\n",
       "<small>shape: (5, 2)</small><table border=\"1\" class=\"dataframe\"><thead><tr><th>lastchar</th><th>count</th></tr><tr><td>str</td><td>u32</td></tr></thead><tbody><tr><td>&quot;田&quot;</td><td>7960</td></tr><tr><td>&quot;原&quot;</td><td>2713</td></tr><tr><td>&quot;野&quot;</td><td>2683</td></tr><tr><td>&quot;谷&quot;</td><td>1943</td></tr><tr><td>&quot;川&quot;</td><td>1858</td></tr></tbody></table></div>"
      ],
      "text/plain": [
       "shape: (5, 2)\n",
       "┌──────────┬───────┐\n",
       "│ lastchar ┆ count │\n",
       "│ ---      ┆ ---   │\n",
       "│ str      ┆ u32   │\n",
       "╞══════════╪═══════╡\n",
       "│ 田       ┆ 7960  │\n",
       "│ 原       ┆ 2713  │\n",
       "│ 野       ┆ 2683  │\n",
       "│ 谷       ┆ 1943  │\n",
       "│ 川       ┆ 1858  │\n",
       "└──────────┴───────┘"
      ]
     },
     "execution_count": 25,
     "metadata": {},
     "output_type": "execute_result"
    }
   ],
   "source": [
    "count = csv.with_columns(\n",
    "    pl.col('名称').str.replace(r'[市町村]$','').str.extract(r'(.)$',1).alias('lastchar')\n",
    ").group_by('lastchar').agg(pl.count()).sort('count', descending=True)\n",
    "count.head(5)"
   ]
  },
  {
   "cell_type": "code",
   "execution_count": 21,
   "metadata": {},
   "outputs": [],
   "source": [
    "csv.with_columns(\n",
    "    pl.col('名称').str.replace(r'[市町村]$','').str.extract(r'(.)$',1).alias('lastchar')\n",
    ").join(count, on='lastchar', how='left').filter(\n",
    "    100 < pl.col('count')\n",
    ").with_columns(\n",
    "    pl.col('名称').alias('name'),\n",
    "    pl.col('読み').alias('yomi'),\n",
    "    pl.col('緯度').alias('lat'),\n",
    "    pl.col('経度').alias('lon'),\n",
    "    pl.col('名称').str.replace(r'[市町村]$','').str.extract(r'(.)$',1).alias('lastchar')\n",
    ").select(\n",
    "    ['name','yomi','lat','lon','lastchar']\n",
    ").write_csv('viz/list.csv')"
   ]
  },
  {
   "cell_type": "code",
   "execution_count": null,
   "metadata": {},
   "outputs": [],
   "source": []
  }
 ],
 "metadata": {
  "kernelspec": {
   "display_name": "Python 3",
   "language": "python",
   "name": "python3"
  },
  "language_info": {
   "codemirror_mode": {
    "name": "ipython",
    "version": 3
   },
   "file_extension": ".py",
   "mimetype": "text/x-python",
   "name": "python",
   "nbconvert_exporter": "python",
   "pygments_lexer": "ipython3",
   "version": "3.10.6"
  }
 },
 "nbformat": 4,
 "nbformat_minor": 2
}
